{
 "cells": [
  {
   "cell_type": "markdown",
   "id": "301d5f14",
   "metadata": {},
   "source": [
    "# QRCODE GENERATION USING qrcode PYTHON LIBRARY"
   ]
  },
  {
   "cell_type": "code",
   "execution_count": 1,
   "id": "93554f63",
   "metadata": {},
   "outputs": [],
   "source": [
    "#######  libraries used  ###############\n",
    "import qrcode\n",
    "from IPython.display import display\n",
    "from PIL import Image, ImageDraw, ImageFont"
   ]
  },
  {
   "cell_type": "markdown",
   "id": "41406376",
   "metadata": {},
   "source": [
    "# CONVERTING LINK TO QRCODE"
   ]
  },
  {
   "cell_type": "code",
   "execution_count": 10,
   "id": "83626993",
   "metadata": {},
   "outputs": [
    {
     "data": {
      "image/png": "[encoded data removed]",
      "text/plain": [
       "<qrcode.image.pil.PilImage at 0x1d5fab7a210>"
      ]
     },
     "metadata": {},
     "output_type": "display_data"
    }
   ],
   "source": [
    "###### data to be fitted in the qr code #########\n",
    "data=\"www.linkedin.com/in/rashi-2a8207252\"\n",
    "\n",
    "###### qrcode generation#####\n",
    "qr=qrcode.QRCode(box_size=6)\n",
    "qr.add_data(data)\n",
    "\n",
    "###### to save an image of the generated qr code #######\n",
    "image=qr.make_image(fill=\"black\",back_color=\"white\")\n",
    "image.save(\"qrcode.jpg\")  ### file name \n",
    "\n",
    "display(image)"
   ]
  },
  {
   "cell_type": "markdown",
   "id": "f0099f44",
   "metadata": {},
   "source": [
    "# CONVERTING TEXT TO QRCODE "
   ]
  },
  {
   "cell_type": "code",
   "execution_count": 8,
   "id": "4601beee",
   "metadata": {},
   "outputs": [
    {
     "data": {
      "image/png": "[encoded data removed]",
      "text/plain": [
       "<qrcode.image.pil.PilImage at 0x1d5f9e58810>"
      ]
     },
     "metadata": {},
     "output_type": "display_data"
    }
   ],
   "source": [
    "###### data to be fitted in the qr code #########\n",
    "data=\"python is dynamicallly programming language\"\n",
    "\n",
    "###### qrcode generation#####\n",
    "qr=qrcode.QRCode(box_size=5)\n",
    "qr.add_data(data)\n",
    "\n",
    "###### to save an image of the generated qr code #######\n",
    "image=qr.make_image(fill=\"black\",back_color=\"white\")\n",
    "image.save(\"qrcode.jpg\")  ### file name \n",
    "\n",
    "display(image)"
   ]
  },
  {
   "cell_type": "markdown",
   "id": "612b84c1",
   "metadata": {},
   "source": [
    "# CONVERTING  IMAGE TO QRCODE"
   ]
  },
  {
   "cell_type": "code",
   "execution_count": 7,
   "id": "10f097e0",
   "metadata": {},
   "outputs": [
    {
     "data": {
      "image/png": "[encoded data removed]",
      "text/plain": [
       "<qrcode.image.pil.PilImage at 0x1d5fab6c6d0>"
      ]
     },
     "metadata": {},
     "output_type": "display_data"
    }
   ],
   "source": [
    "###### data to be fitted in the qr code #########\n",
    "data=\"https://www.google.com/imgres?q=github%20image&imgurl=https%3A%2F%2Ftechcrunch.com%2Fwp-content%2Fuploads%2F2010%2F07%2Fgithub-logo.png&imgrefurl=https%3A%2F%2Ftechcrunch.com%2F2012%2F07%2F14%2Fwhat-exactly-is-github-anyway%2F&docid=7ELQekQMig_zOM&tbnid=K9mtXHJnX0uqqM&vet=12ahUKEwiFhZjJ5omKAxU74zgGHQdMDLAQM3oECHgQAA..i&w=512&h=512&hcb=2&ved=2ahUKEwiFhZjJ5omKAxU74zgGHQdMDLAQM3oECHgQAA\"\n",
    "\n",
    "###### qrcode generation#####\n",
    "qr=qrcode.QRCode(box_size=3)\n",
    "qr.add_data(data)\n",
    "\n",
    "###### to save an image of the generated qr code #######\n",
    "image=qr.make_image(fill=\"black\",back_color=\"white\")\n",
    "image.save(\"qrcode.jpg\")  ### file name \n",
    "\n",
    "display(image)"
   ]
  }
 ],
 "metadata": {
  "kernelspec": {
   "display_name": "Python 3 (ipykernel)",
   "language": "python",
   "name": "python3"
  },
  "language_info": {
   "codemirror_mode": {
    "name": "ipython",
    "version": 3
   },
   "file_extension": ".py",
   "mimetype": "text/x-python",
   "name": "python",
   "nbconvert_exporter": "python",
   "pygments_lexer": "ipython3",
   "version": "3.11.5"
  }
 },
 "nbformat": 4,
 "nbformat_minor": 5
}
